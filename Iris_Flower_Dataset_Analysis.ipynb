{
  "nbformat": 4,
  "nbformat_minor": 0,
  "metadata": {
    "kernelspec": {
      "display_name": "Python 3",
      "language": "python",
      "name": "python3"
    },
    "language_info": {
      "codemirror_mode": {
        "name": "ipython",
        "version": 3
      },
      "file_extension": ".py",
      "mimetype": "text/x-python",
      "name": "python",
      "nbconvert_exporter": "python",
      "pygments_lexer": "ipython3",
      "version": "3.6.5"
    },
    "colab": {
      "name": "Iris Flower Dataset Analysis.ipynb",
      "provenance": [],
      "collapsed_sections": []
    }
  },
  "cells": [
    {
      "cell_type": "code",
      "metadata": {
        "id": "s0-fhU3pVW_7"
      },
      "source": [
        "# apply a machine learning classifier to the infamous iris flower dataset \n",
        "# importing libraries\n",
        "import sys\n",
        "import scipy\n",
        "import numpy\n",
        "import matplotlib\n",
        "import pandas\n",
        "import sklearn"
      ],
      "execution_count": null,
      "outputs": []
    },
    {
      "cell_type": "code",
      "metadata": {
        "id": "6pLkL5G4VW__",
        "outputId": "a6db0b86-9bff-4b77-b484-82b1fd9c526b"
      },
      "source": [
        "# instead of pre-downloading the csv file you can access it online from this website:\n",
        "url = \"https://archive.ics.uci.edu/ml/machine-learning-databases/iris/iris.data\"\n",
        "names = ['sepal-length', 'sepal-width', 'petal-length', 'petal-width', 'class']\n",
        "dataset = pandas.read_csv(url, names = names)\n",
        "# gives number of rows and columns\n",
        "print(dataset.shape)\n",
        "# gives first 5 rows of data\n",
        "print(dataset.head(5))"
      ],
      "execution_count": null,
      "outputs": [
        {
          "name": "stdout",
          "output_type": "stream",
          "text": [
            "(150, 5)\n",
            "   sepal-length  sepal-width  petal-length  petal-width        class\n",
            "0           5.1          3.5           1.4          0.2  Iris-setosa\n",
            "1           4.9          3.0           1.4          0.2  Iris-setosa\n",
            "2           4.7          3.2           1.3          0.2  Iris-setosa\n",
            "3           4.6          3.1           1.5          0.2  Iris-setosa\n",
            "4           5.0          3.6           1.4          0.2  Iris-setosa\n"
          ]
        }
      ]
    },
    {
      "cell_type": "code",
      "metadata": {
        "id": "OEyFyrWXVXAC",
        "outputId": "b869d52b-204e-4645-eed2-63c1bc5e50a8"
      },
      "source": [
        "# get stats\n",
        "print(dataset.describe())"
      ],
      "execution_count": null,
      "outputs": [
        {
          "name": "stdout",
          "output_type": "stream",
          "text": [
            "       sepal-length  sepal-width  petal-length  petal-width\n",
            "count    150.000000   150.000000    150.000000   150.000000\n",
            "mean       5.843333     3.054000      3.758667     1.198667\n",
            "std        0.828066     0.433594      1.764420     0.763161\n",
            "min        4.300000     2.000000      1.000000     0.100000\n",
            "25%        5.100000     2.800000      1.600000     0.300000\n",
            "50%        5.800000     3.000000      4.350000     1.300000\n",
            "75%        6.400000     3.300000      5.100000     1.800000\n",
            "max        7.900000     4.400000      6.900000     2.500000\n"
          ]
        }
      ]
    },
    {
      "cell_type": "code",
      "metadata": {
        "id": "FSeiOl_KVXAD",
        "outputId": "2088c0d9-e974-4149-98f8-c81991a9a159"
      },
      "source": [
        "# flower class distribution\n",
        "dataset.groupby('class').size()"
      ],
      "execution_count": null,
      "outputs": [
        {
          "data": {
            "text/plain": [
              "class\n",
              "Iris-setosa        50\n",
              "Iris-versicolor    50\n",
              "Iris-virginica     50\n",
              "dtype: int64"
            ]
          },
          "execution_count": 17,
          "metadata": {},
          "output_type": "execute_result"
        }
      ]
    },
    {
      "cell_type": "code",
      "metadata": {
        "id": "ImI79gYrVXAD",
        "outputId": "8372ed7d-95e4-47a5-e6c4-1eee68ab32f8"
      },
      "source": [
        "# histogram graphs\n",
        "dataset.hist()\n",
        "matplotlib.pyplot.show()"
      ],
      "execution_count": null,
      "outputs": [
        {
          "data": {
            "image/png": "[encoded data removed]",
            "text/plain": [
              "<Figure size 432x288 with 4 Axes>"
            ]
          },
          "metadata": {},
          "output_type": "display_data"
        }
      ]
    },
    {
      "cell_type": "code",
      "metadata": {
        "id": "QhZpn0-WVXAE",
        "outputId": "634ed433-708b-4fed-c292-47a4f0680efa"
      },
      "source": [
        "# split training and test data (80% and 20% respectively)\n",
        "array = dataset.values\n",
        "# flower features\n",
        "X = array[:, 0:4]\n",
        "# flower classes\n",
        "Y = array[:, 4]\n",
        "test_size = .20\n",
        "\n",
        "from sklearn.model_selection import train_test_split\n",
        "# X are the features, Y are the classes\n",
        "X_train, X_test, Y_train, Y_test = train_test_split(X, Y, test_size=test_size)\n",
        "from sklearn import tree\n",
        "classifier=tree.DecisionTreeClassifier()\n",
        "# train our model\n",
        "classifier.fit(X_train,Y_train)"
      ],
      "execution_count": null,
      "outputs": [
        {
          "data": {
            "text/plain": [
              "DecisionTreeClassifier(class_weight=None, criterion='gini', max_depth=None,\n",
              "            max_features=None, max_leaf_nodes=None,\n",
              "            min_impurity_decrease=0.0, min_impurity_split=None,\n",
              "            min_samples_leaf=1, min_samples_split=2,\n",
              "            min_weight_fraction_leaf=0.0, presort=False, random_state=None,\n",
              "            splitter='best')"
            ]
          },
          "execution_count": 28,
          "metadata": {},
          "output_type": "execute_result"
        }
      ]
    },
    {
      "cell_type": "code",
      "metadata": {
        "id": "1ahGkOBwVXAF",
        "outputId": "095e7c9c-111e-4cdb-bd3c-f11c5c120faf"
      },
      "source": [
        "predictions = classifier.predict(X_test)\n",
        "from sklearn.metrics import accuracy_score\n",
        "# pre-built function computes the accuracy of our model\n",
        "print(accuracy_score(predictions,Y_test) * 100)"
      ],
      "execution_count": null,
      "outputs": [
        {
          "name": "stdout",
          "output_type": "stream",
          "text": [
            "96.66666666666667\n"
          ]
        }
      ]
    }
  ]
}