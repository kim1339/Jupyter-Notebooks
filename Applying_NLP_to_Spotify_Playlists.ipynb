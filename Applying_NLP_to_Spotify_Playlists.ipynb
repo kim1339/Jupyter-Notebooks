{
  "nbformat": 4,
  "nbformat_minor": 0,
  "metadata": {
    "colab": {
      "name": "Applying_NLP_to_Spotify_Playlists.ipynb",
      "provenance": [],
      "collapsed_sections": []
    },
    "kernelspec": {
      "name": "python3",
      "display_name": "Python 3"
    }
  },
  "cells": [
    {
      "cell_type": "markdown",
      "metadata": {
        "id": "tFE1L3_peINW"
      },
      "source": [
        "#<u>Applying sentiment analysis to song lyrics of different musical genres:</u>\n",
        "As an example, I'll be looking into comparing the tones of song lyrics from my Coldplay and rap Spotify playlists."
      ]
    },
    {
      "cell_type": "code",
      "metadata": {
        "id": "R_aU-sjg1-qN"
      },
      "source": [
        "!pip install lyricsgenius\n",
        "!pip install textblob\n",
        "!python -m textblob.download_corpora"
      ],
      "execution_count": null,
      "outputs": []
    },
    {
      "cell_type": "code",
      "metadata": {
        "id": "fXVBDHwT6J6Q"
      },
      "source": [
        "from gensim.summarization import keywords\n",
        "from textblob import TextBlob \n",
        "import lyricsgenius\n",
        "import pandas as pd\n",
        "import spacy\n",
        "import nltk\n",
        "from nltk.corpus import stopwords\n",
        "nltk.download('stopwords')\n",
        "stopwords = set(stopwords.words('english'))\n",
        "from spacy.lang.en import English\n",
        "nlp = English()"
      ],
      "execution_count": null,
      "outputs": []
    },
    {
      "cell_type": "code",
      "metadata": {
        "id": "CHjvs85PIY1i"
      },
      "source": [
        "# using the Genius API to get song lyrics\n",
        "genius = lyricsgenius.Genius(\"insert client access token\")"
      ],
      "execution_count": null,
      "outputs": []
    },
    {
      "cell_type": "code",
      "metadata": {
        "id": "IiXZkozuJk0f",
        "colab": {
          "base_uri": "https://localhost:8080/",
          "height": 195
        },
        "outputId": "14acd6e7-17a3-4e3c-a2bb-adc2478a80f4"
      },
      "source": [
        "# create function for preprocessing Spotify playlist file\n",
        "def processing(file):\n",
        "  df = pd.read_csv(file + str(\".csv\"))\n",
        "  columns = list(df.columns.values)[0].split(\"\\t\")\n",
        "  df_list = df.iloc[:,0].tolist()\n",
        "  df = []\n",
        "  for row in df_list:\n",
        "    df.extend([row.split(\"\\t\")])\n",
        "\n",
        "  songs = [row[0] for row in df]\n",
        "  artists = [row[1] for row in df]\n",
        "  albums = [row[2] for row in df]\n",
        "\n",
        "  data = {columns[0]: songs,\n",
        "          columns[1]: artists,\n",
        "          columns[2]: albums}\n",
        "  return (data, columns[:3])\n",
        "\n",
        "coldplay_info = processing(\"coldplay\")\n",
        "coldplay_df = pd.DataFrame(coldplay_info[0], columns = coldplay_info[1])\n",
        "coldplay_df.head()"
      ],
      "execution_count": null,
      "outputs": [
        {
          "output_type": "execute_result",
          "data": {
            "text/html": [
              "<div>\n",
              "<style scoped>\n",
              "    .dataframe tbody tr th:only-of-type {\n",
              "        vertical-align: middle;\n",
              "    }\n",
              "\n",
              "    .dataframe tbody tr th {\n",
              "        vertical-align: top;\n",
              "    }\n",
              "\n",
              "    .dataframe thead th {\n",
              "        text-align: right;\n",
              "    }\n",
              "</style>\n",
              "<table border=\"1\" class=\"dataframe\">\n",
              "  <thead>\n",
              "    <tr style=\"text-align: right;\">\n",
              "      <th></th>\n",
              "      <th>Track Name</th>\n",
              "      <th>Artist Name</th>\n",
              "      <th>Album Name</th>\n",
              "    </tr>\n",
              "  </thead>\n",
              "  <tbody>\n",
              "    <tr>\n",
              "      <th>0</th>\n",
              "      <td>Hymn for the Weekend</td>\n",
              "      <td>Coldplay</td>\n",
              "      <td>A Head Full of Dreams</td>\n",
              "    </tr>\n",
              "    <tr>\n",
              "      <th>1</th>\n",
              "      <td>Fix You</td>\n",
              "      <td>Coldplay</td>\n",
              "      <td>X&amp;Y</td>\n",
              "    </tr>\n",
              "    <tr>\n",
              "      <th>2</th>\n",
              "      <td>Hurts Like Heaven</td>\n",
              "      <td>Coldplay</td>\n",
              "      <td>Mylo Xyloto</td>\n",
              "    </tr>\n",
              "    <tr>\n",
              "      <th>3</th>\n",
              "      <td>A L I E N S</td>\n",
              "      <td>Coldplay</td>\n",
              "      <td>A L I E N S</td>\n",
              "    </tr>\n",
              "    <tr>\n",
              "      <th>4</th>\n",
              "      <td>Magic</td>\n",
              "      <td>Coldplay</td>\n",
              "      <td>Ghost Stories</td>\n",
              "    </tr>\n",
              "  </tbody>\n",
              "</table>\n",
              "</div>"
            ],
            "text/plain": [
              "             Track Name Artist Name             Album Name\n",
              "0  Hymn for the Weekend    Coldplay  A Head Full of Dreams\n",
              "1               Fix You    Coldplay                    X&Y\n",
              "2     Hurts Like Heaven    Coldplay            Mylo Xyloto\n",
              "3           A L I E N S    Coldplay            A L I E N S\n",
              "4                 Magic    Coldplay          Ghost Stories"
            ]
          },
          "metadata": {
            "tags": []
          },
          "execution_count": 117
        }
      ]
    },
    {
      "cell_type": "code",
      "metadata": {
        "id": "LMGbFGescGEH"
      },
      "source": [
        "# writing the functions\n",
        "\n",
        "def get_lyrics(song, artist):\n",
        "  try:\n",
        "    # genius.remove_section_headers = True\n",
        "    return genius.search_song(song, artist).lyrics\n",
        "  except:\n",
        "    return \"song not found\"\n",
        "\n",
        "def get_sentiment(lyrics):\n",
        "  analysis = TextBlob(lyrics)\n",
        "  return analysis.sentiment.polarity\n",
        "\n",
        "def preprocess(text):\n",
        "    # create Doc object and disable unnecessary pipeline components\n",
        "    doc = nlp(text, disable=['ner', 'parser'])\n",
        "    # generate lemmas\n",
        "    lemmas = [token.lemma_ for token in doc]\n",
        "    # remove stopwords and non-alphabetic characters\n",
        "    a_lemmas = [lemma.lower() for lemma in lemmas if lemma.isalpha() and lemma.lower() not in stopwords]\n",
        "    \n",
        "    return ' '.join(a_lemmas)"
      ],
      "execution_count": null,
      "outputs": []
    },
    {
      "cell_type": "code",
      "metadata": {
        "id": "rG-EBlmMrXTQ"
      },
      "source": [
        "lyrics = coldplay_df.apply(lambda row: get_lyrics(row['Track Name'], row['Artist Name']), axis=1)\n",
        "coldplay_df['Lyrics'] = lyrics"
      ],
      "execution_count": null,
      "outputs": []
    },
    {
      "cell_type": "code",
      "metadata": {
        "id": "yvYCUMT34hjh",
        "colab": {
          "base_uri": "https://localhost:8080/",
          "height": 195
        },
        "outputId": "0cffecf1-57ef-44b6-d658-9ccd67accb70"
      },
      "source": [
        "rap_info = processing(\"rap\")\n",
        "rap_df = pd.DataFrame(rap_info[0]), columns = rap_info[1])\n",
        "rap_df.head()"
      ],
      "execution_count": null,
      "outputs": [
        {
          "output_type": "execute_result",
          "data": {
            "text/html": [
              "<div>\n",
              "<style scoped>\n",
              "    .dataframe tbody tr th:only-of-type {\n",
              "        vertical-align: middle;\n",
              "    }\n",
              "\n",
              "    .dataframe tbody tr th {\n",
              "        vertical-align: top;\n",
              "    }\n",
              "\n",
              "    .dataframe thead th {\n",
              "        text-align: right;\n",
              "    }\n",
              "</style>\n",
              "<table border=\"1\" class=\"dataframe\">\n",
              "  <thead>\n",
              "    <tr style=\"text-align: right;\">\n",
              "      <th></th>\n",
              "      <th>Track Name</th>\n",
              "      <th>Artist Name</th>\n",
              "      <th>Album Name</th>\n",
              "    </tr>\n",
              "  </thead>\n",
              "  <tbody>\n",
              "    <tr>\n",
              "      <th>0</th>\n",
              "      <td>RAP DEVIL</td>\n",
              "      <td>Machine Gun Kelly</td>\n",
              "      <td>RAP DEVIL</td>\n",
              "    </tr>\n",
              "    <tr>\n",
              "      <th>1</th>\n",
              "      <td>Keanu Reeves</td>\n",
              "      <td>Logic</td>\n",
              "      <td>Confessions of a Dangerous Mind</td>\n",
              "    </tr>\n",
              "    <tr>\n",
              "      <th>2</th>\n",
              "      <td>HUMBLE.</td>\n",
              "      <td>Kendrick Lamar</td>\n",
              "      <td>DAMN.</td>\n",
              "    </tr>\n",
              "    <tr>\n",
              "      <th>3</th>\n",
              "      <td>Lucky You (feat. Joyner Lucas)</td>\n",
              "      <td>Eminem</td>\n",
              "      <td>Kamikaze</td>\n",
              "    </tr>\n",
              "    <tr>\n",
              "      <th>4</th>\n",
              "      <td>Mockingbird</td>\n",
              "      <td>Eminem</td>\n",
              "      <td>Encore (Deluxe Version)</td>\n",
              "    </tr>\n",
              "  </tbody>\n",
              "</table>\n",
              "</div>"
            ],
            "text/plain": [
              "                       Track Name  ...                       Album Name\n",
              "0                       RAP DEVIL  ...                        RAP DEVIL\n",
              "1                    Keanu Reeves  ...  Confessions of a Dangerous Mind\n",
              "2                         HUMBLE.  ...                            DAMN.\n",
              "3  Lucky You (feat. Joyner Lucas)  ...                         Kamikaze\n",
              "4                     Mockingbird  ...          Encore (Deluxe Version)\n",
              "\n",
              "[5 rows x 3 columns]"
            ]
          },
          "metadata": {
            "tags": []
          },
          "execution_count": 111
        }
      ]
    },
    {
      "cell_type": "code",
      "metadata": {
        "id": "-E3ffwLQ9Uii"
      },
      "source": [
        "lyrics = rap_df.apply(lambda row: get_lyrics(row['Track Name'], row['Artist Name']), axis=1)\n",
        "rap_df['Lyrics'] = lyrics"
      ],
      "execution_count": null,
      "outputs": []
    },
    {
      "cell_type": "code",
      "metadata": {
        "id": "EIwxHhR095Qf",
        "colab": {
          "base_uri": "https://localhost:8080/",
          "height": 414
        },
        "outputId": "7785025c-ead9-45f7-ffc8-699b238b1bfa"
      },
      "source": [
        "sentiments = coldplay_df.apply(lambda row: get_sentiment(row['Lyrics']), axis=1)\n",
        "coldplay_df['Sentiments'] = sentiments\n",
        "print(\"Mean: {}\".format(coldplay_df['Sentiments'].mean()))\n",
        "print(\"Min: {}\".format(coldplay_df['Sentiments'].min()))\n",
        "print(\"Max: {}\\n\".format(coldplay_df['Sentiments'].max()))\n",
        "\n",
        "import seaborn as sns\n",
        "import matplotlib.pyplot as plt\n",
        "\n",
        "sns.distplot(a=coldplay_df['Sentiments'], kde=False, label=\"Coldplay\")\n",
        "\n",
        "sentiments = rap_df.apply(lambda row: get_sentiment(row['Lyrics']), axis=1)\n",
        "rap_df['Sentiments'] = sentiments\n",
        "print(\"Mean: {}\".format(rap_df['Sentiments'].mean()))\n",
        "print(\"Min: {}\".format(rap_df['Sentiments'].min()))\n",
        "print(\"Max: {}\".format(rap_df['Sentiments'].max()))\n",
        "\n",
        "sns.distplot(a=rap_df['Sentiments'], kde=False, label=\"Rap\")\n",
        "plt.legend()\n",
        "\n",
        "# sentiment analysis score ranges from -1 to 1 (negative tone to positive tone, respectively)"
      ],
      "execution_count": null,
      "outputs": [
        {
          "output_type": "stream",
          "text": [
            "Mean: 0.1102276523858327\n",
            "Min: -0.33482142857142855\n",
            "Max: 0.4\n",
            "\n",
            "Mean: 0.07395364004039429\n",
            "Min: -0.3476641414141414\n",
            "Max: 0.75\n"
          ],
          "name": "stdout"
        },
        {
          "output_type": "execute_result",
          "data": {
            "text/plain": [
              "<matplotlib.legend.Legend at 0x7fe82eb7ec50>"
            ]
          },
          "metadata": {
            "tags": []
          },
          "execution_count": 128
        },
        {
          "output_type": "display_data",
          "data": {
            "image/png": "[encoded data removed]",
            "text/plain": [
              "<Figure size 432x288 with 1 Axes>"
            ]
          },
          "metadata": {
            "tags": [],
            "needs_background": "light"
          }
        }
      ]
    },
    {
      "cell_type": "code",
      "metadata": {
        "id": "46EAbSYTIddT",
        "colab": {
          "base_uri": "https://localhost:8080/",
          "height": 77
        },
        "outputId": "ea607d82-2c69-4711-a0cc-8791d3d9913f"
      },
      "source": [
        "# looking into the outlier\n",
        "rap_df.loc[rap_df[\"Sentiments\"] == 0.75]"
      ],
      "execution_count": null,
      "outputs": [
        {
          "output_type": "execute_result",
          "data": {
            "text/html": [
              "<div>\n",
              "<style scoped>\n",
              "    .dataframe tbody tr th:only-of-type {\n",
              "        vertical-align: middle;\n",
              "    }\n",
              "\n",
              "    .dataframe tbody tr th {\n",
              "        vertical-align: top;\n",
              "    }\n",
              "\n",
              "    .dataframe thead th {\n",
              "        text-align: right;\n",
              "    }\n",
              "</style>\n",
              "<table border=\"1\" class=\"dataframe\">\n",
              "  <thead>\n",
              "    <tr style=\"text-align: right;\">\n",
              "      <th></th>\n",
              "      <th>Track Name</th>\n",
              "      <th>Artist Name</th>\n",
              "      <th>Album Name</th>\n",
              "      <th>Lyrics</th>\n",
              "      <th>Sentiments</th>\n",
              "    </tr>\n",
              "  </thead>\n",
              "  <tbody>\n",
              "    <tr>\n",
              "      <th>37</th>\n",
              "      <td>Hall of Fame (feat. will.i.am)</td>\n",
              "      <td>The Script</td>\n",
              "      <td>#3 Deluxe Version</td>\n",
              "      <td>Yeah, you can be the greatest, you can be the ...</td>\n",
              "      <td>0.75</td>\n",
              "    </tr>\n",
              "  </tbody>\n",
              "</table>\n",
              "</div>"
            ],
            "text/plain": [
              "                        Track Name  ... Sentiments\n",
              "37  Hall of Fame (feat. will.i.am)  ...       0.75\n",
              "\n",
              "[1 rows x 5 columns]"
            ]
          },
          "metadata": {
            "tags": []
          },
          "execution_count": 135
        }
      ]
    },
    {
      "cell_type": "code",
      "metadata": {
        "id": "Oec3A2qRKD0t",
        "colab": {
          "base_uri": "https://localhost:8080/",
          "height": 34
        },
        "outputId": "022f494a-34d5-4f87-e42f-36c6aeecd6d7"
      },
      "source": [
        "TextBlob(\"Yeah, you can be the greatest, you can be the best\").sentiment"
      ],
      "execution_count": null,
      "outputs": [
        {
          "output_type": "execute_result",
          "data": {
            "text/plain": [
              "Sentiment(polarity=1.0, subjectivity=0.65)"
            ]
          },
          "metadata": {
            "tags": []
          },
          "execution_count": 137
        }
      ]
    },
    {
      "cell_type": "code",
      "metadata": {
        "id": "uOk0DB2SQ3yf",
        "colab": {
          "base_uri": "https://localhost:8080/",
          "height": 1000
        },
        "outputId": "2c7ee5a3-69f1-488c-ea87-644e165166e4"
      },
      "source": [
        "print(genius.search_song(\"Hall of Fame (feat. will.i.am)\", \"The Script\").lyrics)"
      ],
      "execution_count": null,
      "outputs": [
        {
          "output_type": "stream",
          "text": [
            "Searching for \"Hall of Fame (feat. will.i.am)\" by The Script...\n",
            "Done.\n",
            "Yeah, you can be the greatest, you can be the best\n",
            "You can be the King Kong bangin' on your chest\n",
            "You can beat the world, you can beat the war\n",
            "You can talk to God, go bangin' on his door\n",
            "You can throw your hands up, you can beat the clock (Yeah)\n",
            "You can move a mountain, you can break rocks\n",
            "You can be a master, don’t wait for luck\n",
            "Dedicate yourself and you gon' find yourself\n",
            "\n",
            "Standin' in the Hall of Fame (Yeah)\n",
            "And the world’s gonna know your name (Yeah)\n",
            "‘Cause you burn with the brightest flame (Yeah)\n",
            "And the world’s gonna know your name (Yeah)\n",
            "And you’ll be on the walls of the Hall of Fame\n",
            "\n",
            "You can go the distance, you can run the mile\n",
            "You can walk straight through hell with a smile\n",
            "You can be the hero, you can get the gold\n",
            "Breakin' all the records they thought never could be broke, yeah\n",
            "Do it for your people, do it for your pride\n",
            "How are you ever gonna know if you never even try?\n",
            "Do it for your country, do it for your name\n",
            "‘Cause there's gon' be a day, when you're\n",
            "\n",
            "Standin' in the Hall of Fame (Yeah)\n",
            "And the world’s gonna know your name (Yeah)\n",
            "‘Cause you burn with the brightest flame (Yeah)\n",
            "And the world’s gonna know your name (Yeah)\n",
            "And you’ll be on the walls of the Hall of Fame\n",
            "\n",
            "Be a champion\n",
            "Be a champion\n",
            "Be a champion\n",
            "Be a champion\n",
            "And you’ll be on the walls of the Hall of Fame\n",
            "\n",
            "Be students, be teachers\n",
            "Be politicians, be preachers\n",
            "Yeah\n",
            "Be believers, be leaders\n",
            "Be astronauts, be champions\n",
            "Be truth-seekers\n",
            "Be students, be teachers\n",
            "Be politicians, be preachers\n",
            "Yeah\n",
            "Be believers, be leaders\n",
            "Be astronauts, be champions\n",
            "\n",
            "Standin' in the Hall of Fame (Yeah)\n",
            "And the world’s gonna know your name (Yeah)\n",
            "‘Cause you burn with the brightest flame (Yeah)\n",
            "And the world’s gonna know your name (Yeah)\n",
            "And you’ll be on the walls of the Hall of Fame\n",
            "\n",
            "You can be the greatest, you can be the best\n",
            "(Be a champion)\n",
            "You can be the King Kong bangin' on your chest\n",
            "(You can be a champion)\n",
            "You can beat the world, you can beat the war\n",
            "(Be a champion)\n",
            "You can talk to God, go bangin' on his door\n",
            "(You can be a champion)\n",
            "You can throw your hands up, you can beat the clock\n",
            "(You can be a champion)\n",
            "You can move a mountain, you can break rocks\n",
            "(You can be a champion)\n",
            "You can be a master, don’t wait for luck\n",
            "(You can be a champion)\n",
            "Dedicate yourself and you gon' find yourself\n",
            "(You can be a champion)\n",
            "Standing in the Hall of Fame…\n"
          ],
          "name": "stdout"
        }
      ]
    }
  ]
}