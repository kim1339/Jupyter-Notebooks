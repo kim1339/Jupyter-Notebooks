{
  "nbformat": 4,
  "nbformat_minor": 0,
  "metadata": {
    "kernelspec": {
      "display_name": "Python 3",
      "language": "python",
      "name": "python3"
    },
    "language_info": {
      "codemirror_mode": {
        "name": "ipython",
        "version": 3
      },
      "file_extension": ".py",
      "mimetype": "text/x-python",
      "name": "python",
      "nbconvert_exporter": "python",
      "pygments_lexer": "ipython3",
      "version": "3.6.5"
    },
    "colab": {
      "name": "Loan_Approval_Prediction.ipynb",
      "provenance": []
    }
  },
  "cells": [
    {
      "cell_type": "code",
      "metadata": {
        "id": "fQoF0AtoXxi7"
      },
      "source": [
        "import pandas as pd\n",
        "import numpy as np\n",
        "import seaborn as sns\n",
        "import matplotlib.pyplot as plt \n",
        "import warnings\n",
        "warnings.filterwarnings('ignore')"
      ],
      "execution_count": null,
      "outputs": []
    },
    {
      "cell_type": "code",
      "metadata": {
        "id": "l9Rtf5JNXxi9",
        "outputId": "6b7f7407-f597-44ae-c375-d824bb05e0bb"
      },
      "source": [
        "train = pd.read_csv('train.csv')\n",
        "test = pd.read_csv('test.csv')\n",
        "train_og = train.copy()\n",
        "test_og = test.copy()\n",
        "print(train_og.head(3))"
      ],
      "execution_count": null,
      "outputs": [
        {
          "name": "stdout",
          "output_type": "stream",
          "text": [
            "    Loan_ID Gender Married Dependents Education Self_Employed  \\\n",
            "0  LP001002   Male      No          0  Graduate            No   \n",
            "1  LP001003   Male     Yes          1  Graduate            No   \n",
            "2  LP001005   Male     Yes          0  Graduate           Yes   \n",
            "\n",
            "   ApplicantIncome  CoapplicantIncome  LoanAmount  Loan_Amount_Term  \\\n",
            "0             5849                0.0         NaN             360.0   \n",
            "1             4583             1508.0       128.0             360.0   \n",
            "2             3000                0.0        66.0             360.0   \n",
            "\n",
            "   Credit_History Property_Area Loan_Status  \n",
            "0             1.0         Urban           Y  \n",
            "1             1.0         Rural           N  \n",
            "2             1.0         Urban           Y  \n"
          ]
        }
      ]
    },
    {
      "cell_type": "code",
      "metadata": {
        "id": "lSVvUvAMXxi_",
        "outputId": "a6a2e0ba-0c44-4f85-bdb8-8ef328ab1cdd"
      },
      "source": [
        "# prints (rows, columns)\n",
        "print(train_og.shape, test_og.shape)\n",
        "print(train_og.columns)"
      ],
      "execution_count": null,
      "outputs": [
        {
          "name": "stdout",
          "output_type": "stream",
          "text": [
            "(614, 13) (367, 12)\n",
            "Index(['Loan_ID', 'Gender', 'Married', 'Dependents', 'Education',\n",
            "       'Self_Employed', 'ApplicantIncome', 'CoapplicantIncome', 'LoanAmount',\n",
            "       'Loan_Amount_Term', 'Credit_History', 'Property_Area', 'Loan_Status'],\n",
            "      dtype='object')\n",
            "13\n"
          ]
        }
      ]
    },
    {
      "cell_type": "code",
      "metadata": {
        "id": "JZjplN6_XxjA",
        "outputId": "75ffcae4-7961-43d7-cea4-bd4ed130a0fe"
      },
      "source": [
        "# prints the number of approved and disapproved loans in our train dataset\n",
        "train_og['Loan_Status'].value_counts()"
      ],
      "execution_count": null,
      "outputs": [
        {
          "data": {
            "text/plain": [
              "Y    422\n",
              "N    192\n",
              "Name: Loan_Status, dtype: int64"
            ]
          },
          "execution_count": 4,
          "metadata": {},
          "output_type": "execute_result"
        }
      ]
    },
    {
      "cell_type": "code",
      "metadata": {
        "id": "S0_TsYbjXxjB",
        "outputId": "871cca50-3d43-4c30-d74f-8dd4a9fcaa2e"
      },
      "source": [
        "# prints the percentages of approved and disapproved loans in our train dataset\n",
        "train_og['Loan_Status'].value_counts(normalize=True) * 100"
      ],
      "execution_count": null,
      "outputs": [
        {
          "data": {
            "text/plain": [
              "Y    68.729642\n",
              "N    31.270358\n",
              "Name: Loan_Status, dtype: float64"
            ]
          },
          "execution_count": 5,
          "metadata": {},
          "output_type": "execute_result"
        }
      ]
    },
    {
      "cell_type": "code",
      "metadata": {
        "id": "ie-Z32gjXxjB",
        "outputId": "c22d1441-8224-44a0-e948-2c5bd6f8a808"
      },
      "source": [
        "train_og['Loan_Status'].value_counts().plot.bar()"
      ],
      "execution_count": null,
      "outputs": [
        {
          "data": {
            "text/plain": [
              "<matplotlib.axes._subplots.AxesSubplot at 0x1fc35c70f28>"
            ]
          },
          "execution_count": 6,
          "metadata": {},
          "output_type": "execute_result"
        },
        {
          "data": {
            "image/png": "[encoded data removed]",
            "text/plain": [
              "<Figure size 432x288 with 1 Axes>"
            ]
          },
          "metadata": {
            "needs_background": "light"
          },
          "output_type": "display_data"
        }
      ]
    },
    {
      "cell_type": "code",
      "metadata": {
        "id": "B6GtV-9KXxjC",
        "outputId": "0d07ec37-2d36-416e-e158-b9ba8af7ca02"
      },
      "source": [
        "train_og['Loan_Status'].value_counts().plot.pie()"
      ],
      "execution_count": null,
      "outputs": [
        {
          "data": {
            "text/plain": [
              "<matplotlib.axes._subplots.AxesSubplot at 0x1fc35f91358>"
            ]
          },
          "execution_count": 7,
          "metadata": {},
          "output_type": "execute_result"
        },
        {
          "data": {
            "image/png": "[encoded data removed]",
            "text/plain": [
              "<Figure size 432x288 with 1 Axes>"
            ]
          },
          "metadata": {},
          "output_type": "display_data"
        }
      ]
    },
    {
      "cell_type": "code",
      "metadata": {
        "id": "6LoGpQ03XxjD",
        "outputId": "b76545db-7f65-44d7-fe24-04113c0a1786"
      },
      "source": [
        "train_og['Gender'].value_counts().plot.bar()"
      ],
      "execution_count": null,
      "outputs": [
        {
          "data": {
            "text/plain": [
              "<matplotlib.axes._subplots.AxesSubplot at 0x1fc35fe94a8>"
            ]
          },
          "execution_count": 8,
          "metadata": {},
          "output_type": "execute_result"
        },
        {
          "data": {
            "image/png": "[encoded data removed]",
            "text/plain": [
              "<Figure size 432x288 with 1 Axes>"
            ]
          },
          "metadata": {
            "needs_background": "light"
          },
          "output_type": "display_data"
        }
      ]
    },
    {
      "cell_type": "code",
      "metadata": {
        "id": "FLujzhWsXxjE",
        "outputId": "71eb17fc-e34a-4a7a-e6e9-05edaadb79e9"
      },
      "source": [
        "# using the seaborn library to visualize applicant incomes\n",
        "sns.distplot(train_og['ApplicantIncome'])"
      ],
      "execution_count": null,
      "outputs": [
        {
          "data": {
            "text/plain": [
              "<matplotlib.axes._subplots.AxesSubplot at 0x1fc3603bf98>"
            ]
          },
          "execution_count": 9,
          "metadata": {},
          "output_type": "execute_result"
        },
        {
          "data": {
            "image/png": "[encoded data removed]",
            "text/plain": [
              "<Figure size 432x288 with 1 Axes>"
            ]
          },
          "metadata": {
            "needs_background": "light"
          },
          "output_type": "display_data"
        }
      ]
    },
    {
      "cell_type": "code",
      "metadata": {
        "id": "swA6R7i8XxjF",
        "outputId": "b8d050bb-6695-4d9a-c6e2-ae2c83898d76"
      },
      "source": [
        "# this will allow us to see if there's a correlation b/w gender and loan approval\n",
        "pd.crosstab(train_og['Gender'],train_og['Loan_Status']).plot.bar()\n",
        "# we can infer that there is no correlation since around half of each gender recieve loan approval (ie. both genders have the same proportion of approval)"
      ],
      "execution_count": null,
      "outputs": [
        {
          "data": {
            "text/plain": [
              "<matplotlib.axes._subplots.AxesSubplot at 0x1fc3610ff98>"
            ]
          },
          "execution_count": 10,
          "metadata": {},
          "output_type": "execute_result"
        },
        {
          "data": {
            "image/png": "[encoded data removed]",
            "text/plain": [
              "<Figure size 432x288 with 1 Axes>"
            ]
          },
          "metadata": {
            "needs_background": "light"
          },
          "output_type": "display_data"
        }
      ]
    },
    {
      "cell_type": "code",
      "metadata": {
        "id": "CgMPamhuXxjG",
        "outputId": "81aeaf82-9b04-4d02-bf07-3c49f7774b8d"
      },
      "source": [
        "pd.crosstab(train_og['Credit_History'],train_og['Loan_Status']).plot.bar()"
      ],
      "execution_count": null,
      "outputs": [
        {
          "data": {
            "text/plain": [
              "<matplotlib.axes._subplots.AxesSubplot at 0x1fc3619ae48>"
            ]
          },
          "execution_count": 11,
          "metadata": {},
          "output_type": "execute_result"
        },
        {
          "data": {
            "image/png": "[encoded data removed]",
            "text/plain": [
              "<Figure size 432x288 with 1 Axes>"
            ]
          },
          "metadata": {
            "needs_background": "light"
          },
          "output_type": "display_data"
        }
      ]
    },
    {
      "cell_type": "code",
      "metadata": {
        "id": "IfAZO47jXxjG",
        "outputId": "050c1915-1ad4-4840-e8a9-c31ec3b5365f"
      },
      "source": [
        "pd.crosstab(train_og['Self_Employed'],train_og['Loan_Status']).plot.bar()"
      ],
      "execution_count": null,
      "outputs": [
        {
          "data": {
            "text/plain": [
              "<matplotlib.axes._subplots.AxesSubplot at 0x1fc3621b3c8>"
            ]
          },
          "execution_count": 14,
          "metadata": {},
          "output_type": "execute_result"
        },
        {
          "data": {
            "image/png": "[encoded data removed]",
            "text/plain": [
              "<Figure size 432x288 with 1 Axes>"
            ]
          },
          "metadata": {
            "needs_background": "light"
          },
          "output_type": "display_data"
        }
      ]
    },
    {
      "cell_type": "code",
      "metadata": {
        "id": "3b4e9MubXxjG",
        "outputId": "e854eaca-311c-42d1-c57c-629b9ff4fcdb"
      },
      "source": [
        "train_og.groupby('Loan_Status')['ApplicantIncome'].mean()"
      ],
      "execution_count": null,
      "outputs": [
        {
          "data": {
            "text/plain": [
              "Loan_Status\n",
              "N    5446.078125\n",
              "Y    5384.068720\n",
              "Name: ApplicantIncome, dtype: float64"
            ]
          },
          "execution_count": 15,
          "metadata": {},
          "output_type": "execute_result"
        }
      ]
    },
    {
      "cell_type": "code",
      "metadata": {
        "id": "FFhkEscXXxjH",
        "outputId": "4b4f80cc-801b-4bd6-918e-eb89228d4595"
      },
      "source": [
        "train_og.isnull().sum()"
      ],
      "execution_count": null,
      "outputs": [
        {
          "data": {
            "text/plain": [
              "Loan_ID               0\n",
              "Gender               13\n",
              "Married               3\n",
              "Dependents           15\n",
              "Education             0\n",
              "Self_Employed        32\n",
              "ApplicantIncome       0\n",
              "CoapplicantIncome     0\n",
              "LoanAmount           22\n",
              "Loan_Amount_Term     14\n",
              "Credit_History       50\n",
              "Property_Area         0\n",
              "Loan_Status           0\n",
              "dtype: int64"
            ]
          },
          "execution_count": 16,
          "metadata": {},
          "output_type": "execute_result"
        }
      ]
    },
    {
      "cell_type": "code",
      "metadata": {
        "id": "0KEgrAdoXxjH",
        "outputId": "31a2accb-fa0e-4ae0-d353-d781b81c97b8"
      },
      "source": [
        "train_og['LoanAmount'].isnull().sum()"
      ],
      "execution_count": null,
      "outputs": [
        {
          "data": {
            "text/plain": [
              "22"
            ]
          },
          "execution_count": 17,
          "metadata": {},
          "output_type": "execute_result"
        }
      ]
    },
    {
      "cell_type": "code",
      "metadata": {
        "id": "HaRsYhdsXxjI",
        "outputId": "5c46f9da-6847-46c4-83e2-b116e0fcf7e3"
      },
      "source": [
        "# replace null values\n",
        "train_og['LoanAmount'].fillna(train_og['LoanAmount'].mode()[0],inplace=True)\n",
        "train_og['LoanAmount'].isnull().sum()"
      ],
      "execution_count": null,
      "outputs": [
        {
          "data": {
            "text/plain": [
              "0"
            ]
          },
          "execution_count": 18,
          "metadata": {},
          "output_type": "execute_result"
        }
      ]
    },
    {
      "cell_type": "code",
      "metadata": {
        "id": "NTWp1ilOXxjI"
      },
      "source": [
        "train_og['Credit_History'].fillna(train_og['Credit_History'].mode()[0],inplace=True)"
      ],
      "execution_count": null,
      "outputs": []
    },
    {
      "cell_type": "code",
      "metadata": {
        "id": "UnUHBGtQXxjI"
      },
      "source": [
        "train_og['Loan_Amount_Term'].fillna(train_og['Loan_Amount_Term'].mode()[0],inplace=True)"
      ],
      "execution_count": null,
      "outputs": []
    },
    {
      "cell_type": "markdown",
      "metadata": {
        "id": "a3W5LETmbp1l"
      },
      "source": [
        "#Using logistic regression for binary classification:"
      ]
    },
    {
      "cell_type": "code",
      "metadata": {
        "id": "EJ-4pHl2XxjI",
        "outputId": "6ae3b260-035b-49f9-908c-bb083350a3f4"
      },
      "source": [
        "# The logistic function is a S-shaped curve that will transform any value into the range 0 to 1. \n",
        "# This is why logistic regression is often used for binary classification problems (binary means there are 2 classes).\n",
        "# The predictions made by logistic regression can also be used as the probability of a given data instance belonging to class 0 or class 1.\n",
        " \n",
        "# LOAN ID is irrevelant to the classification so we are dropping that column.\n",
        "train_og['Loan_ID'].head(5)\n",
        "train_og = train_og.drop('Loan_ID', axis=1)\n",
        "print(len(train_og.columns))"
      ],
      "execution_count": null,
      "outputs": [
        {
          "name": "stdout",
          "output_type": "stream",
          "text": [
            "12\n"
          ]
        }
      ]
    },
    {
      "cell_type": "code",
      "metadata": {
        "id": "_7JLOwE6XxjJ"
      },
      "source": [
        "import sklearn\n",
        "X = train_og.drop('Loan_Status', axis=1)\n",
        "y = train_og.Loan_Status"
      ],
      "execution_count": null,
      "outputs": []
    },
    {
      "cell_type": "code",
      "metadata": {
        "id": "ZHLSLIp7XxjJ",
        "outputId": "b4b67e6b-e528-4592-ae67-afbdb9713931"
      },
      "source": [
        "train_og.dtypes\n",
        "# the variables with object datatypes are categorical variables which mean that the data can be divided into groups\n",
        "# for ex: the 'Education' variable has a value of 'Graduate' or 'Not Graduate'"
      ],
      "execution_count": null,
      "outputs": [
        {
          "data": {
            "text/plain": [
              "Gender                object\n",
              "Married               object\n",
              "Dependents            object\n",
              "Education             object\n",
              "Self_Employed         object\n",
              "ApplicantIncome        int64\n",
              "CoapplicantIncome    float64\n",
              "LoanAmount           float64\n",
              "Loan_Amount_Term     float64\n",
              "Credit_History       float64\n",
              "Property_Area         object\n",
              "Loan_Status           object\n",
              "dtype: object"
            ]
          },
          "execution_count": 23,
          "metadata": {},
          "output_type": "execute_result"
        }
      ]
    },
    {
      "cell_type": "code",
      "metadata": {
        "id": "SVU3PMu-XxjJ",
        "outputId": "086379e1-c7c4-4c15-f38b-545a2c8fc3fb"
      },
      "source": [
        "print(train_og.head(1))"
      ],
      "execution_count": null,
      "outputs": [
        {
          "name": "stdout",
          "output_type": "stream",
          "text": [
            "  Gender Married Dependents Education Self_Employed  ApplicantIncome  \\\n",
            "0   Male      No          0  Graduate            No             5849   \n",
            "\n",
            "   CoapplicantIncome  LoanAmount  Loan_Amount_Term  Credit_History  \\\n",
            "0                0.0       120.0             360.0             1.0   \n",
            "\n",
            "  Property_Area Loan_Status  \n",
            "0         Urban           Y  \n"
          ]
        }
      ]
    },
    {
      "cell_type": "code",
      "metadata": {
        "id": "gat9IUPPXxjJ",
        "outputId": "743447af-0cd6-4e43-bf6d-fcc37f160c48"
      },
      "source": [
        "# we have to apply the get_dummy function to the categorical variables\n",
        "# divides variable into its subgroups and assigns numerical values of 0 or 1 instead\n",
        "# for example the first person is a male so Gender_Female is 0 so False and Gender_Male is 1 so True\n",
        "X = pd.get_dummies(X)\n",
        "train_og = pd.get_dummies(train_og)\n",
        "test_og = pd.get_dummies(test_og)\n",
        "print(train_og.head(1))"
      ],
      "execution_count": null,
      "outputs": [
        {
          "name": "stdout",
          "output_type": "stream",
          "text": [
            "   ApplicantIncome  CoapplicantIncome  LoanAmount  Loan_Amount_Term  \\\n",
            "0             5849                0.0       120.0             360.0   \n",
            "\n",
            "   Credit_History  Gender_Female  Gender_Male  Married_No  Married_Yes  \\\n",
            "0             1.0              0            1           1            0   \n",
            "\n",
            "   Dependents_0      ...        Dependents_3+  Education_Graduate  \\\n",
            "0             1      ...                    0                   1   \n",
            "\n",
            "   Education_Not Graduate  Self_Employed_No  Self_Employed_Yes  \\\n",
            "0                       0                 1                  0   \n",
            "\n",
            "   Property_Area_Rural  Property_Area_Semiurban  Property_Area_Urban  \\\n",
            "0                    0                        0                    1   \n",
            "\n",
            "   Loan_Status_N  Loan_Status_Y  \n",
            "0              0              1  \n",
            "\n",
            "[1 rows x 22 columns]\n"
          ]
        }
      ]
    },
    {
      "cell_type": "code",
      "metadata": {
        "id": "2sMV-evTXxjK"
      },
      "source": [
        "# time to train our prediction model\n",
        "from sklearn.model_selection import train_test_split\n",
        "x_train, x_cv, y_train, y_cv = train_test_split(X, y, test_size=0.35)"
      ],
      "execution_count": null,
      "outputs": []
    },
    {
      "cell_type": "code",
      "metadata": {
        "id": "tg2_7UHrXxjK",
        "outputId": "94f75300-b77e-49c0-d2b2-ded3586e7cdf"
      },
      "source": [
        "# making sure there were no null values \n",
        "train_og.isnull().sum()"
      ],
      "execution_count": null,
      "outputs": [
        {
          "data": {
            "text/plain": [
              "ApplicantIncome            0\n",
              "CoapplicantIncome          0\n",
              "LoanAmount                 0\n",
              "Loan_Amount_Term           0\n",
              "Credit_History             0\n",
              "Gender_Female              0\n",
              "Gender_Male                0\n",
              "Married_No                 0\n",
              "Married_Yes                0\n",
              "Dependents_0               0\n",
              "Dependents_1               0\n",
              "Dependents_2               0\n",
              "Dependents_3+              0\n",
              "Education_Graduate         0\n",
              "Education_Not Graduate     0\n",
              "Self_Employed_No           0\n",
              "Self_Employed_Yes          0\n",
              "Property_Area_Rural        0\n",
              "Property_Area_Semiurban    0\n",
              "Property_Area_Urban        0\n",
              "Loan_Status_N              0\n",
              "Loan_Status_Y              0\n",
              "dtype: int64"
            ]
          },
          "execution_count": 27,
          "metadata": {},
          "output_type": "execute_result"
        }
      ]
    },
    {
      "cell_type": "code",
      "metadata": {
        "id": "0fZvLjmqXxjK",
        "outputId": "a1c51a19-a1eb-477d-d1a3-c506576abdc5"
      },
      "source": [
        "from sklearn.linear_model import LogisticRegression\n",
        "from sklearn.metrics import accuracy_score\n",
        "model = LogisticRegression()\n",
        "model.fit(x_train, y_train)"
      ],
      "execution_count": null,
      "outputs": [
        {
          "data": {
            "text/plain": [
              "LogisticRegression(C=1.0, class_weight=None, dual=False, fit_intercept=True,\n",
              "          intercept_scaling=1, max_iter=100, multi_class='warn',\n",
              "          n_jobs=None, penalty='l2', random_state=None, solver='warn',\n",
              "          tol=0.0001, verbose=0, warm_start=False)"
            ]
          },
          "execution_count": 28,
          "metadata": {},
          "output_type": "execute_result"
        }
      ]
    },
    {
      "cell_type": "code",
      "metadata": {
        "id": "S_OehSL_XxjK",
        "outputId": "77b251e0-eefe-43bf-d804-3212b61652a3"
      },
      "source": [
        "# time for the model to make predictions\n",
        "prediction = model.predict(x_cv)\n",
        "# testing the accuracy of our predictions\n",
        "accuracy_score(y_cv, prediction)"
      ],
      "execution_count": null,
      "outputs": [
        {
          "data": {
            "text/plain": [
              "0.813953488372093"
            ]
          },
          "execution_count": 29,
          "metadata": {},
          "output_type": "execute_result"
        }
      ]
    }
  ]
}