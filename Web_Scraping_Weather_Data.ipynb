{
  "nbformat": 4,
  "nbformat_minor": 0,
  "metadata": {
    "kernelspec": {
      "display_name": "Python 3",
      "language": "python",
      "name": "python3"
    },
    "language_info": {
      "codemirror_mode": {
        "name": "ipython",
        "version": 3
      },
      "file_extension": ".py",
      "mimetype": "text/x-python",
      "name": "python",
      "nbconvert_exporter": "python",
      "pygments_lexer": "ipython3",
      "version": "3.6.5"
    },
    "colab": {
      "name": "Web_Scraping_Weather_Data.ipynb",
      "provenance": [],
      "collapsed_sections": []
    }
  },
  "cells": [
    {
      "cell_type": "code",
      "metadata": {
        "id": "6MeBlF9liYqu",
        "outputId": "1ce512f7-7b0e-4bc1-ce54-8c2605ef4ae0"
      },
      "source": [
        "# web scraping gets data from a web page in a format that we can work with\n",
        "import requests\n",
        "web_page = requests.get('http://dataquestio.github.io/web-scraping-pages/simple.html')\n",
        "print(web_page)\n",
        "print(web_page.status_code)\n",
        "# a status code that starts with 2 is supposedly successful"
      ],
      "execution_count": null,
      "outputs": [
        {
          "name": "stdout",
          "output_type": "stream",
          "text": [
            "<Response [200]>\n",
            "200\n"
          ]
        }
      ]
    },
    {
      "cell_type": "code",
      "metadata": {
        "id": "qdng2abHiYqy",
        "outputId": "02dfb08b-a38b-46dc-e95e-c691c80970dd"
      },
      "source": [
        "# prints the HTML script\n",
        "web_page.content"
      ],
      "execution_count": null,
      "outputs": [
        {
          "data": {
            "text/plain": [
              "b'<!DOCTYPE html>\\n<html>\\n    <head>\\n        <title>A simple example page</title>\\n    </head>\\n    <body>\\n        <p>Here is some simple content for this page.</p>\\n    </body>\\n</html>'"
            ]
          },
          "execution_count": 18,
          "metadata": {},
          "output_type": "execute_result"
        }
      ]
    },
    {
      "cell_type": "code",
      "metadata": {
        "id": "J5wT62gOiYqz"
      },
      "source": [
        "# using BeautifulSoup library to parse data\n",
        "from bs4 import BeautifulSoup"
      ],
      "execution_count": null,
      "outputs": []
    },
    {
      "cell_type": "code",
      "metadata": {
        "id": "foc7bld8iYq0",
        "outputId": "7cdab528-c2fd-49ce-bb59-09c55521d337"
      },
      "source": [
        "soupified = BeautifulSoup(web_page.content,'html.parser')\n",
        "soupified"
      ],
      "execution_count": null,
      "outputs": [
        {
          "data": {
            "text/plain": [
              "<!DOCTYPE html>\n",
              "\n",
              "<html>\n",
              "<head>\n",
              "<title>A simple example page</title>\n",
              "</head>\n",
              "<body>\n",
              "<p>Here is some simple content for this page.</p>\n",
              "</body>\n",
              "</html>"
            ]
          },
          "execution_count": 20,
          "metadata": {},
          "output_type": "execute_result"
        }
      ]
    },
    {
      "cell_type": "code",
      "metadata": {
        "id": "LClBOTdHiYq1",
        "outputId": "66b5da0a-02c8-42b3-b88b-4494fac97e94"
      },
      "source": [
        "list(soupified.children)"
      ],
      "execution_count": null,
      "outputs": [
        {
          "data": {
            "text/plain": [
              "['html', '\\n', <html>\n",
              " <head>\n",
              " <title>A simple example page</title>\n",
              " </head>\n",
              " <body>\n",
              " <p>Here is some simple content for this page.</p>\n",
              " </body>\n",
              " </html>]"
            ]
          },
          "execution_count": 21,
          "metadata": {},
          "output_type": "execute_result"
        }
      ]
    },
    {
      "cell_type": "code",
      "metadata": {
        "id": "ospRg5vxiYq2",
        "outputId": "58d79a55-5c74-4b46-a666-fa38cc0e7dba"
      },
      "source": [
        "for item in list(soupified.children):\n",
        "    print(type(item))"
      ],
      "execution_count": null,
      "outputs": [
        {
          "name": "stdout",
          "output_type": "stream",
          "text": [
            "<class 'bs4.element.Doctype'>\n",
            "<class 'bs4.element.NavigableString'>\n",
            "<class 'bs4.element.Tag'>\n"
          ]
        }
      ]
    },
    {
      "cell_type": "code",
      "metadata": {
        "id": "BXs-NgrOiYq3",
        "outputId": "b8c4bc3b-c92f-4fb0-b902-7b68458fc038"
      },
      "source": [
        "# you have to index it since the find_all function creates a list\n",
        "soupified.find_all('p')[0].get_text()"
      ],
      "execution_count": null,
      "outputs": [
        {
          "data": {
            "text/plain": [
              "'Here is some simple content for this page.'"
            ]
          },
          "execution_count": 23,
          "metadata": {},
          "output_type": "execute_result"
        }
      ]
    },
    {
      "cell_type": "code",
      "metadata": {
        "id": "uqUbPl8iiYq5",
        "outputId": "c09a94ea-6ed4-4717-8d71-6431fe9ca224"
      },
      "source": [
        "web_page_2 = requests.get('http://dataquestio.github.io/web-scraping-pages/ids_and_classes.html')\n",
        "soupified_2 = BeautifulSoup(web_page_2.content, 'html.parser')\n",
        "soupified_2"
      ],
      "execution_count": null,
      "outputs": [
        {
          "data": {
            "text/plain": [
              "<html>\n",
              "<head>\n",
              "<title>A simple example page</title>\n",
              "</head>\n",
              "<body>\n",
              "<div>\n",
              "<p class=\"inner-text first-item\" id=\"first\">\n",
              "                First paragraph.\n",
              "            </p>\n",
              "<p class=\"inner-text\">\n",
              "                Second paragraph.\n",
              "            </p>\n",
              "</div>\n",
              "<p class=\"outer-text first-item\" id=\"second\">\n",
              "<b>\n",
              "                First outer paragraph.\n",
              "            </b>\n",
              "</p>\n",
              "<p class=\"outer-text\">\n",
              "<b>\n",
              "                Second outer paragraph.\n",
              "            </b>\n",
              "</p>\n",
              "</body>\n",
              "</html>"
            ]
          },
          "execution_count": 24,
          "metadata": {},
          "output_type": "execute_result"
        }
      ]
    },
    {
      "cell_type": "code",
      "metadata": {
        "id": "jnotnp2iiYq6",
        "outputId": "f154d67a-2e84-400d-eb79-901111cfac71"
      },
      "source": [
        "soupified.find_all('title')[0].get_text()"
      ],
      "execution_count": null,
      "outputs": [
        {
          "data": {
            "text/plain": [
              "'A simple example page'"
            ]
          },
          "execution_count": 25,
          "metadata": {},
          "output_type": "execute_result"
        }
      ]
    },
    {
      "cell_type": "code",
      "metadata": {
        "id": "UeUc_8hCiYq9",
        "outputId": "3939d0c8-ec75-41e0-f7b9-68b8931c4b8f"
      },
      "source": [
        "weather = requests.get('https://forecast.weather.gov/MapClick.php?lat=37.7772&lon=-122.4168#.XKTv7PZFwdU')\n",
        "weather_page = BeautifulSoup(weather.content,'html.parser')\n",
        "days = weather_page.find(id='seven-day-forecast')\n",
        "days"
      ],
      "execution_count": null,
      "outputs": [
        {
          "data": {
            "text/plain": [
              "<div class=\"panel panel-default\" id=\"seven-day-forecast\">\n",
              "<div class=\"panel-heading\">\n",
              "<b>Extended Forecast for</b>\n",
              "<h2 class=\"panel-title\">\n",
              "\t    \t    San Francisco CA\t</h2>\n",
              "</div>\n",
              "<div class=\"panel-body\" id=\"seven-day-forecast-body\">\n",
              "<div id=\"seven-day-forecast-container\"><ul class=\"list-unstyled\" id=\"seven-day-forecast-list\"><li class=\"forecast-tombstone\">\n",
              "<div class=\"tombstone-container\">\n",
              "<p class=\"period-name\">Tonight<br/><br/></p>\n",
              "<p><img alt=\"Tonight: A 30 percent chance of showers before 11pm.  Cloudy during the early evening, then gradual clearing, with a low around 53. West northwest wind 16 to 18 mph, with gusts as high as 23 mph.  New precipitation amounts of less than a tenth of an inch possible. \" class=\"forecast-icon\" src=\"DualImage.php?i=nshra&amp;j=nbkn&amp;ip=30\" title=\"Tonight: A 30 percent chance of showers before 11pm.  Cloudy during the early evening, then gradual clearing, with a low around 53. West northwest wind 16 to 18 mph, with gusts as high as 23 mph.  New precipitation amounts of less than a tenth of an inch possible. \"/></p><p class=\"short-desc\">Chance<br/>Showers then<br/>Mostly Cloudy</p><p class=\"temp temp-low\">Low: 53 °F</p></div></li><li class=\"forecast-tombstone\">\n",
              "<div class=\"tombstone-container\">\n",
              "<p class=\"period-name\">Tuesday<br/><br/></p>\n",
              "<p><img alt=\"Tuesday: Sunny, with a high near 64. Breezy, with a west northwest wind 16 to 22 mph, with gusts as high as 29 mph. \" class=\"forecast-icon\" src=\"DualImage.php?i=few&amp;j=wind_skc\" title=\"Tuesday: Sunny, with a high near 64. Breezy, with a west northwest wind 16 to 22 mph, with gusts as high as 29 mph. \"/></p><p class=\"short-desc\">Sunny then<br/>Sunny and<br/>Breezy</p><p class=\"temp temp-high\">High: 64 °F</p></div></li><li class=\"forecast-tombstone\">\n",
              "<div class=\"tombstone-container\">\n",
              "<p class=\"period-name\">Tuesday<br/>Night</p>\n",
              "<p><img alt=\"Tuesday Night: Clear, with a low around 50. North northwest wind 13 to 21 mph, with gusts as high as 26 mph. \" class=\"forecast-icon\" src=\"newimages/medium/nskc.png\" title=\"Tuesday Night: Clear, with a low around 50. North northwest wind 13 to 21 mph, with gusts as high as 26 mph. \"/></p><p class=\"short-desc\">Clear</p><p class=\"temp temp-low\">Low: 50 °F</p></div></li><li class=\"forecast-tombstone\">\n",
              "<div class=\"tombstone-container\">\n",
              "<p class=\"period-name\">Wednesday<br/><br/></p>\n",
              "<p><img alt=\"Wednesday: Sunny, with a high near 67. North northwest wind 9 to 18 mph, with gusts as high as 23 mph. \" class=\"forecast-icon\" src=\"newimages/medium/skc.png\" title=\"Wednesday: Sunny, with a high near 67. North northwest wind 9 to 18 mph, with gusts as high as 23 mph. \"/></p><p class=\"short-desc\">Sunny</p><p class=\"temp temp-high\">High: 67 °F</p></div></li><li class=\"forecast-tombstone\">\n",
              "<div class=\"tombstone-container\">\n",
              "<p class=\"period-name\">Wednesday<br/>Night</p>\n",
              "<p><img alt=\"Wednesday Night: Mostly clear, with a low around 52. West wind 13 to 18 mph decreasing to 5 to 10 mph after midnight. Winds could gust as high as 24 mph. \" class=\"forecast-icon\" src=\"newimages/medium/nfew.png\" title=\"Wednesday Night: Mostly clear, with a low around 52. West wind 13 to 18 mph decreasing to 5 to 10 mph after midnight. Winds could gust as high as 24 mph. \"/></p><p class=\"short-desc\">Mostly Clear</p><p class=\"temp temp-low\">Low: 52 °F</p></div></li><li class=\"forecast-tombstone\">\n",
              "<div class=\"tombstone-container\">\n",
              "<p class=\"period-name\">Thursday<br/><br/></p>\n",
              "<p><img alt=\"Thursday: Mostly sunny, with a high near 64. Breezy. \" class=\"forecast-icon\" src=\"DualImage.php?i=sct&amp;j=wind_sct\" title=\"Thursday: Mostly sunny, with a high near 64. Breezy. \"/></p><p class=\"short-desc\">Mostly Sunny<br/>then Mostly<br/>Sunny and<br/>Breezy</p><p class=\"temp temp-high\">High: 64 °F</p></div></li><li class=\"forecast-tombstone\">\n",
              "<div class=\"tombstone-container\">\n",
              "<p class=\"period-name\">Thursday<br/>Night</p>\n",
              "<p><img alt=\"Thursday Night: Partly cloudy, with a low around 50. Breezy. \" class=\"forecast-icon\" src=\"DualImage.php?i=nwind_sct&amp;j=nsct\" title=\"Thursday Night: Partly cloudy, with a low around 50. Breezy. \"/></p><p class=\"short-desc\">Partly Cloudy<br/>and Breezy<br/>then Partly<br/>Cloudy</p><p class=\"temp temp-low\">Low: 50 °F</p></div></li><li class=\"forecast-tombstone\">\n",
              "<div class=\"tombstone-container\">\n",
              "<p class=\"period-name\">Friday<br/><br/></p>\n",
              "<p><img alt=\"Friday: Sunny, with a high near 66.\" class=\"forecast-icon\" src=\"newimages/medium/few.png\" title=\"Friday: Sunny, with a high near 66.\"/></p><p class=\"short-desc\">Sunny</p><p class=\"temp temp-high\">High: 66 °F</p></div></li><li class=\"forecast-tombstone\">\n",
              "<div class=\"tombstone-container\">\n",
              "<p class=\"period-name\">Friday<br/>Night</p>\n",
              "<p><img alt=\"Friday Night: Clear, with a low around 52.\" class=\"forecast-icon\" src=\"newimages/medium/nskc.png\" title=\"Friday Night: Clear, with a low around 52.\"/></p><p class=\"short-desc\">Clear</p><p class=\"temp temp-low\">Low: 52 °F</p></div></li></ul></div>\n",
              "<script type=\"text/javascript\">\n",
              "// equalize forecast heights\n",
              "$(function () {\n",
              "\tvar maxh = 0;\n",
              "\t$(\".forecast-tombstone .short-desc\").each(function () {\n",
              "\t\tvar h = $(this).height();\n",
              "\t\tif (h > maxh) { maxh = h; }\n",
              "\t});\n",
              "\t$(\".forecast-tombstone .short-desc\").height(maxh);\n",
              "});\n",
              "</script> </div>\n",
              "</div>"
            ]
          },
          "execution_count": 26,
          "metadata": {},
          "output_type": "execute_result"
        }
      ]
    },
    {
      "cell_type": "code",
      "metadata": {
        "id": "5a1-3-xniYq_",
        "outputId": "bd1165cf-3b2b-4cde-d682-549297ec25f6"
      },
      "source": [
        "forecast = weather_page.find_all(class_=\"tombstone-container\")\n",
        "Tonight = forecast[0]\n",
        "Tonight"
      ],
      "execution_count": null,
      "outputs": [
        {
          "data": {
            "text/plain": [
              "<div class=\"tombstone-container\">\n",
              "<p class=\"period-name\">Tonight<br/><br/></p>\n",
              "<p><img alt=\"Tonight: A 30 percent chance of showers before 11pm.  Cloudy during the early evening, then gradual clearing, with a low around 53. West northwest wind 16 to 18 mph, with gusts as high as 23 mph.  New precipitation amounts of less than a tenth of an inch possible. \" class=\"forecast-icon\" src=\"DualImage.php?i=nshra&amp;j=nbkn&amp;ip=30\" title=\"Tonight: A 30 percent chance of showers before 11pm.  Cloudy during the early evening, then gradual clearing, with a low around 53. West northwest wind 16 to 18 mph, with gusts as high as 23 mph.  New precipitation amounts of less than a tenth of an inch possible. \"/></p><p class=\"short-desc\">Chance<br/>Showers then<br/>Mostly Cloudy</p><p class=\"temp temp-low\">Low: 53 °F</p></div>"
            ]
          },
          "execution_count": 27,
          "metadata": {},
          "output_type": "execute_result"
        }
      ]
    },
    {
      "cell_type": "code",
      "metadata": {
        "id": "_Xq8ZgkMiYq_",
        "outputId": "e9bc5dec-c0c9-4745-b812-83b492294db8"
      },
      "source": [
        "# can't apply get_text function to prettified version of script\n",
        "Day = Tonight.find(class_=\"period-name\").get_text()\n",
        "Day"
      ],
      "execution_count": null,
      "outputs": [
        {
          "data": {
            "text/plain": [
              "'Tonight'"
            ]
          },
          "execution_count": 28,
          "metadata": {},
          "output_type": "execute_result"
        }
      ]
    },
    {
      "cell_type": "code",
      "metadata": {
        "id": "qO4UH4Y-iYrA",
        "outputId": "f6424da2-f717-44e1-c4c1-54d51ac0d131"
      },
      "source": [
        "img = Tonight.find(\"img\")\n",
        "img['alt']"
      ],
      "execution_count": null,
      "outputs": [
        {
          "data": {
            "text/plain": [
              "'Tonight: A 30 percent chance of showers before 11pm.  Cloudy during the early evening, then gradual clearing, with a low around 53. West northwest wind 16 to 18 mph, with gusts as high as 23 mph.  New precipitation amounts of less than a tenth of an inch possible. '"
            ]
          },
          "execution_count": 29,
          "metadata": {},
          "output_type": "execute_result"
        }
      ]
    },
    {
      "cell_type": "code",
      "metadata": {
        "id": "B4vlgDPfiYrA",
        "outputId": "2904164e-9d7d-4be1-a74b-2158b94d961a"
      },
      "source": [
        "# prints the period name of everything with the tombstone container class\n",
        "period_tags = days.select(\".tombstone-container .period-name\")\n",
        "period_tags "
      ],
      "execution_count": null,
      "outputs": [
        {
          "data": {
            "text/plain": [
              "[<p class=\"period-name\">Tonight<br/><br/></p>,\n",
              " <p class=\"period-name\">Tuesday<br/><br/></p>,\n",
              " <p class=\"period-name\">Tuesday<br/>Night</p>,\n",
              " <p class=\"period-name\">Wednesday<br/><br/></p>,\n",
              " <p class=\"period-name\">Wednesday<br/>Night</p>,\n",
              " <p class=\"period-name\">Thursday<br/><br/></p>,\n",
              " <p class=\"period-name\">Thursday<br/>Night</p>,\n",
              " <p class=\"period-name\">Friday<br/><br/></p>,\n",
              " <p class=\"period-name\">Friday<br/>Night</p>]"
            ]
          },
          "execution_count": 30,
          "metadata": {},
          "output_type": "execute_result"
        }
      ]
    },
    {
      "cell_type": "code",
      "metadata": {
        "id": "aiRrq0FRiYrB",
        "outputId": "330ec059-3794-4986-ec59-b7e53ed804bc"
      },
      "source": [
        "def lister(list_param):\n",
        "    new_list = []\n",
        "    for i in len(list_param):\n",
        "        new_list.append(list_param[i].get_text())\n",
        "    return new_list\n",
        "lister(period_tags)"
      ],
      "execution_count": null,
      "outputs": [
        {
          "data": {
            "text/plain": [
              "['Tonight',\n",
              " 'Tuesday',\n",
              " 'TuesdayNight',\n",
              " 'Wednesday',\n",
              " 'WednesdayNight',\n",
              " 'Thursday',\n",
              " 'ThursdayNight',\n",
              " 'Friday',\n",
              " 'FridayNight']"
            ]
          },
          "execution_count": 31,
          "metadata": {},
          "output_type": "execute_result"
        }
      ]
    },
    {
      "cell_type": "code",
      "metadata": {
        "id": "aEES6WaziYrB",
        "outputId": "d09c8c3b-c215-4268-c7db-6e95a18ba884"
      },
      "source": [
        "# selects everything with tombstone container class and temp class\n",
        "temps_tags = days.select(\".tombstone-container .temp\")\n",
        "temp_list = lister(temps_tags)\n",
        "print(temp_list)\n",
        "temp_int = []\n",
        "for i in len(temp_list):\n",
        "    temp_int.append(int(temp_list[i].split()[1]))\n",
        "print(temp_int)\n",
        "highz = temp_int[::2]\n",
        "lowz = temp_int[1::2]\n",
        "print(highz)\n",
        "print(lowz)"
      ],
      "execution_count": null,
      "outputs": [
        {
          "name": "stdout",
          "output_type": "stream",
          "text": [
            "['Low: 53 °F', 'High: 64 °F', 'Low: 50 °F', 'High: 67 °F', 'Low: 52 °F', 'High: 64 °F', 'Low: 50 °F', 'High: 66 °F', 'Low: 52 °F']\n",
            "[53, 64, 50, 67, 52, 64, 50, 66, 52]\n",
            "[53, 50, 52, 50, 52]\n",
            "[64, 67, 64, 66]\n"
          ]
        }
      ]
    },
    {
      "cell_type": "code",
      "metadata": {
        "id": "HWgivwkUiYrB",
        "outputId": "c8a56e66-50f7-4536-8ae6-65b1ef8a692b"
      },
      "source": [
        "print(temps_tags)"
      ],
      "execution_count": null,
      "outputs": [
        {
          "name": "stdout",
          "output_type": "stream",
          "text": [
            "[<p class=\"temp temp-low\">Low: 53 °F</p>, <p class=\"temp temp-high\">High: 64 °F</p>, <p class=\"temp temp-low\">Low: 50 °F</p>, <p class=\"temp temp-high\">High: 67 °F</p>, <p class=\"temp temp-low\">Low: 52 °F</p>, <p class=\"temp temp-high\">High: 64 °F</p>, <p class=\"temp temp-low\">Low: 50 °F</p>, <p class=\"temp temp-high\">High: 66 °F</p>, <p class=\"temp temp-low\">Low: 52 °F</p>]\n"
          ]
        }
      ]
    },
    {
      "cell_type": "code",
      "metadata": {
        "id": "10oWsY5eiYrC",
        "outputId": "95fde79e-4239-4ef3-b411-bd58aefb8ddf"
      },
      "source": [
        "# data visualization with matplotlib\n",
        "import matplotlib.pyplot as plt \n",
        "import numpy as np\n",
        "plt.xlabel('Days')\n",
        "plt.ylabel('Temperature in F')\n",
        "x = [0,1,2,3,4]\n",
        "y = highz\n",
        "plt.scatter(x,y)\n",
        "plt.show()\n",
        "fig = plt.figure()\n"
      ],
      "execution_count": null,
      "outputs": [
        {
          "data": {
            "image/png": "[encoded data removed]",
            "text/plain": [
              "<Figure size 432x288 with 1 Axes>"
            ]
          },
          "metadata": {},
          "output_type": "display_data"
        },
        {
          "data": {
            "text/plain": [
              "<Figure size 432x288 with 0 Axes>"
            ]
          },
          "metadata": {},
          "output_type": "display_data"
        }
      ]
    },
    {
      "cell_type": "code",
      "metadata": {
        "id": "3b42Vt7FiYrC",
        "outputId": "9054b447-72dc-47dd-d06b-f1c9d29ea2e0"
      },
      "source": [
        "short_desc = days.select(\".short-desc\")\n",
        "short_desc"
      ],
      "execution_count": null,
      "outputs": [
        {
          "data": {
            "text/plain": [
              "[<p class=\"short-desc\">Chance<br/>Showers then<br/>Mostly Cloudy</p>,\n",
              " <p class=\"short-desc\">Sunny then<br/>Sunny and<br/>Breezy</p>,\n",
              " <p class=\"short-desc\">Clear</p>,\n",
              " <p class=\"short-desc\">Sunny</p>,\n",
              " <p class=\"short-desc\">Mostly Clear</p>,\n",
              " <p class=\"short-desc\">Mostly Sunny<br/>then Mostly<br/>Sunny and<br/>Breezy</p>,\n",
              " <p class=\"short-desc\">Partly Cloudy<br/>and Breezy<br/>then Partly<br/>Cloudy</p>,\n",
              " <p class=\"short-desc\">Sunny</p>,\n",
              " <p class=\"short-desc\">Clear</p>]"
            ]
          },
          "execution_count": 43,
          "metadata": {},
          "output_type": "execute_result"
        }
      ]
    },
    {
      "cell_type": "code",
      "metadata": {
        "id": "Sgee-LG0iYrC",
        "outputId": "1c9d529f-9952-4aae-da42-73c017b16663"
      },
      "source": [
        "lister(short_desc)"
      ],
      "execution_count": null,
      "outputs": [
        {
          "data": {
            "text/plain": [
              "['ChanceShowers thenMostly Cloudy',\n",
              " 'Sunny thenSunny andBreezy',\n",
              " 'Clear',\n",
              " 'Sunny',\n",
              " 'Mostly Clear',\n",
              " 'Mostly Sunnythen MostlySunny andBreezy',\n",
              " 'Partly Cloudyand Breezythen PartlyCloudy',\n",
              " 'Sunny',\n",
              " 'Clear']"
            ]
          },
          "execution_count": 45,
          "metadata": {},
          "output_type": "execute_result"
        }
      ]
    },
    {
      "cell_type": "code",
      "metadata": {
        "id": "3PYUwCD1iYrC",
        "outputId": "c02a012a-f6c7-48dc-d276-95a068f48c57"
      },
      "source": [
        "# transfering data to a dataframe\n",
        "import pandas as pd\n",
        "# DataFrame() can take dictionaries\n",
        "weather_df = pd.DataFrame({'Period':lister(period_tags),\n",
        "                           \"Temperature\":temp_list,\n",
        "                           \"Description\":lister(short_desc)\n",
        "                          })\n",
        "weather_df"
      ],
      "execution_count": null,
      "outputs": [
        {
          "data": {
            "text/html": [
              "<div>\n",
              "<style scoped>\n",
              "    .dataframe tbody tr th:only-of-type {\n",
              "        vertical-align: middle;\n",
              "    }\n",
              "\n",
              "    .dataframe tbody tr th {\n",
              "        vertical-align: top;\n",
              "    }\n",
              "\n",
              "    .dataframe thead th {\n",
              "        text-align: right;\n",
              "    }\n",
              "</style>\n",
              "<table border=\"1\" class=\"dataframe\">\n",
              "  <thead>\n",
              "    <tr style=\"text-align: right;\">\n",
              "      <th></th>\n",
              "      <th>Period</th>\n",
              "      <th>Temperature</th>\n",
              "      <th>Description</th>\n",
              "    </tr>\n",
              "  </thead>\n",
              "  <tbody>\n",
              "    <tr>\n",
              "      <th>0</th>\n",
              "      <td>Tonight</td>\n",
              "      <td>Low: 53 °F</td>\n",
              "      <td>ChanceShowers thenMostly Cloudy</td>\n",
              "    </tr>\n",
              "    <tr>\n",
              "      <th>1</th>\n",
              "      <td>Tuesday</td>\n",
              "      <td>High: 64 °F</td>\n",
              "      <td>Sunny thenSunny andBreezy</td>\n",
              "    </tr>\n",
              "    <tr>\n",
              "      <th>2</th>\n",
              "      <td>TuesdayNight</td>\n",
              "      <td>Low: 50 °F</td>\n",
              "      <td>Clear</td>\n",
              "    </tr>\n",
              "    <tr>\n",
              "      <th>3</th>\n",
              "      <td>Wednesday</td>\n",
              "      <td>High: 67 °F</td>\n",
              "      <td>Sunny</td>\n",
              "    </tr>\n",
              "    <tr>\n",
              "      <th>4</th>\n",
              "      <td>WednesdayNight</td>\n",
              "      <td>Low: 52 °F</td>\n",
              "      <td>Mostly Clear</td>\n",
              "    </tr>\n",
              "    <tr>\n",
              "      <th>5</th>\n",
              "      <td>Thursday</td>\n",
              "      <td>High: 64 °F</td>\n",
              "      <td>Mostly Sunnythen MostlySunny andBreezy</td>\n",
              "    </tr>\n",
              "    <tr>\n",
              "      <th>6</th>\n",
              "      <td>ThursdayNight</td>\n",
              "      <td>Low: 50 °F</td>\n",
              "      <td>Partly Cloudyand Breezythen PartlyCloudy</td>\n",
              "    </tr>\n",
              "    <tr>\n",
              "      <th>7</th>\n",
              "      <td>Friday</td>\n",
              "      <td>High: 66 °F</td>\n",
              "      <td>Sunny</td>\n",
              "    </tr>\n",
              "    <tr>\n",
              "      <th>8</th>\n",
              "      <td>FridayNight</td>\n",
              "      <td>Low: 52 °F</td>\n",
              "      <td>Clear</td>\n",
              "    </tr>\n",
              "  </tbody>\n",
              "</table>\n",
              "</div>"
            ],
            "text/plain": [
              "           Period  Temperature                               Description\n",
              "0         Tonight   Low: 53 °F           ChanceShowers thenMostly Cloudy\n",
              "1         Tuesday  High: 64 °F                 Sunny thenSunny andBreezy\n",
              "2    TuesdayNight   Low: 50 °F                                     Clear\n",
              "3       Wednesday  High: 67 °F                                     Sunny\n",
              "4  WednesdayNight   Low: 52 °F                              Mostly Clear\n",
              "5        Thursday  High: 64 °F    Mostly Sunnythen MostlySunny andBreezy\n",
              "6   ThursdayNight   Low: 50 °F  Partly Cloudyand Breezythen PartlyCloudy\n",
              "7          Friday  High: 66 °F                                     Sunny\n",
              "8     FridayNight   Low: 52 °F                                     Clear"
            ]
          },
          "execution_count": 46,
          "metadata": {},
          "output_type": "execute_result"
        }
      ]
    }
  ]
}