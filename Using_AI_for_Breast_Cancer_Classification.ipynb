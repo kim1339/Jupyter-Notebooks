{
  "nbformat": 4,
  "nbformat_minor": 0,
  "metadata": {
    "kernelspec": {
      "display_name": "Python 3",
      "language": "python",
      "name": "python3"
    },
    "language_info": {
      "codemirror_mode": {
        "name": "ipython",
        "version": 3
      },
      "file_extension": ".py",
      "mimetype": "text/x-python",
      "name": "python",
      "nbconvert_exporter": "python",
      "pygments_lexer": "ipython3",
      "version": "3.6.5"
    },
    "colab": {
      "name": "Using AI for Breast Cancer Classification.ipynb",
      "provenance": []
    }
  },
  "cells": [
    {
      "cell_type": "markdown",
      "metadata": {
        "id": "T8WslvVmNmwt"
      },
      "source": [
        "# Can AI be used to classify tumors as malignant or benign?\n"
      ]
    },
    {
      "cell_type": "code",
      "metadata": {
        "colab": {
          "base_uri": "https://localhost:8080/"
        },
        "id": "VR0hawXHNmwx",
        "outputId": "13ec13bc-dc48-4231-b952-a2eac0b7f1d5"
      },
      "source": [
        "# For this classification project, I imported a toy dataset from scikit-learn (so I didn't download any external files from other websites)\n",
        "import sklearn\n",
        "from sklearn import datasets\n",
        "\n",
        "cancer = datasets.load_breast_cancer() # Load the breast cancer diagnostic dataset from scikit-learn\n",
        "\n",
        "print(\"Names of Features\")\n",
        "print(cancer.feature_names) \n",
        "\n",
        "print(\"Names of Classes\")\n",
        "print(cancer.target_names)\n",
        "\n",
        "# We find that either a tumor is 'malignant' or it is 'benign'. \n",
        "# Malignant tumors are cancerous, grow quickly and uncontrollably, and can metastasize to other body sites.\n",
        "# Benign tumors tend to grow slowly and do not spread."
      ],
      "execution_count": 1,
      "outputs": [
        {
          "output_type": "stream",
          "name": "stdout",
          "text": [
            "Names of Features\n",
            "['mean radius' 'mean texture' 'mean perimeter' 'mean area'\n",
            " 'mean smoothness' 'mean compactness' 'mean concavity'\n",
            " 'mean concave points' 'mean symmetry' 'mean fractal dimension'\n",
            " 'radius error' 'texture error' 'perimeter error' 'area error'\n",
            " 'smoothness error' 'compactness error' 'concavity error'\n",
            " 'concave points error' 'symmetry error' 'fractal dimension error'\n",
            " 'worst radius' 'worst texture' 'worst perimeter' 'worst area'\n",
            " 'worst smoothness' 'worst compactness' 'worst concavity'\n",
            " 'worst concave points' 'worst symmetry' 'worst fractal dimension']\n",
            "Names of Classes\n",
            "['malignant' 'benign']\n"
          ]
        }
      ]
    },
    {
      "cell_type": "markdown",
      "metadata": {
        "id": "ztWfY-unNmwy"
      },
      "source": [
        "# Using a descision tree classifier:\n",
        "Using the decision tree model, given features of a supposed breast cancer tumor, we can label it as malignant or benign. \n",
        "\n",
        "A decision tree is a tree-like model of decisions used to go from observations about an item to conclusions about the item.\n",
        "\n",
        "It is a supervised machine learning technique that can be used for classification and/or regression problems.\n"
      ]
    },
    {
      "cell_type": "code",
      "metadata": {
        "scrolled": true,
        "colab": {
          "base_uri": "https://localhost:8080/"
        },
        "id": "_BNp1YdfNmwz",
        "outputId": "7e3a6977-2860-485e-c97e-a0293fff50c9"
      },
      "source": [
        "from sklearn.tree import DecisionTreeClassifier\n",
        "from sklearn.model_selection import train_test_split\n",
        "\n",
        "# Create the training and testing datasets\n",
        "X = cancer.data # X, what we're using to predict, aka the features like tumor texture, radius, etc.\n",
        "y = cancer.target # y, what we're predicting, aka the classes/labels (malignant or benign)\n",
        "\n",
        "X_train, X_test, y_train, y_test = train_test_split(X, y, test_size=0.20) # We split the data into 'train' and 'test' sets, test size is 20% of the total data\n",
        "\n",
        "# Train a classifier\n",
        "classifier = DecisionTreeClassifier()\n",
        "classifier.fit(X_train, y_train)\n",
        "\n",
        "# Use the trained classifier to predict whether a new piece of data is benign or malignant\n",
        "prediction = classifier.predict(X_test)\n",
        "\n",
        "# Note that these predictions aren't necessarily correct, 1 is cancer (true), 0 is not (false)\n",
        "prediction"
      ],
      "execution_count": 2,
      "outputs": [
        {
          "output_type": "execute_result",
          "data": {
            "text/plain": [
              "array([1, 1, 1, 1, 0, 0, 0, 1, 1, 1, 0, 1, 1, 1, 0, 1, 0, 1, 1, 1, 1, 1,\n",
              "       0, 0, 1, 1, 1, 1, 1, 1, 1, 1, 1, 1, 1, 0, 0, 1, 0, 0, 1, 0, 1, 0,\n",
              "       1, 0, 1, 0, 1, 0, 1, 1, 0, 1, 0, 0, 0, 1, 0, 1, 1, 0, 0, 1, 1, 1,\n",
              "       0, 1, 0, 0, 1, 1, 1, 0, 1, 1, 1, 1, 0, 0, 0, 1, 1, 1, 0, 0, 1, 0,\n",
              "       0, 0, 0, 1, 1, 1, 0, 1, 0, 1, 1, 0, 1, 0, 1, 0, 0, 0, 1, 1, 1, 1,\n",
              "       0, 1, 1, 0])"
            ]
          },
          "metadata": {},
          "execution_count": 2
        }
      ]
    },
    {
      "cell_type": "code",
      "metadata": {
        "colab": {
          "base_uri": "https://localhost:8080/"
        },
        "id": "DMvfd6AMNmw0",
        "outputId": "805a2fe7-563c-4e20-d322-5a7adf1841fa"
      },
      "source": [
        "correct = 0 \n",
        "for i in range(0, len(y_test)): # Iterate through all of our predictions\n",
        "        if (y_test[i] == prediction[i]):\n",
        "            correct += 1 \n",
        "\n",
        "accuracy = correct / len(y_test)\n",
        "\n",
        "print(\"Number of correct predictions: \", correct)\n",
        "print(\"Total number of predictions: \", len(y_test))\n",
        "print(\"Model accuracy: \", accuracy * 100, \"%\")"
      ],
      "execution_count": 3,
      "outputs": [
        {
          "output_type": "stream",
          "name": "stdout",
          "text": [
            "Number of correct predictions:  105\n",
            "Total number of predictions:  114\n",
            "Model accuracy:  92.10526315789474 %\n"
          ]
        }
      ]
    }
  ]
}